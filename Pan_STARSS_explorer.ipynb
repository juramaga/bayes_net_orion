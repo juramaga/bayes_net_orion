{
 "cells": [
  {
   "cell_type": "code",
   "execution_count": 1,
   "metadata": {
    "collapsed": false
   },
   "outputs": [
    {
     "name": "stdout",
     "output_type": "stream",
     "text": [
      "Populating the interactive namespace from numpy and matplotlib\n"
     ]
    }
   ],
   "source": [
    "%pylab inline\n",
    "import numpy as np\n",
    "import pandas as pd\n",
    "import matplotlib.pyplot as plt\n",
    "from scipy.stats.mstats import mode\n",
    "from scipy import stats\n",
    "from astropy.io import ascii\n",
    "from astropy.io import fits\n",
    "from astropy import units as u\n",
    "from astropy.coordinates import SkyCoord\n",
    "import pymc"
   ]
  },
  {
   "cell_type": "code",
   "execution_count": 2,
   "metadata": {
    "collapsed": true
   },
   "outputs": [],
   "source": [
    "phot = pd.read_csv('DaRiofullPS1nocut_arminr.csv')"
   ]
  },
  {
   "cell_type": "code",
   "execution_count": 3,
   "metadata": {
    "collapsed": false
   },
   "outputs": [],
   "source": [
    "phot_cut = pd.read_csv('DaRioPS1Full_arminr.csv')"
   ]
  },
  {
   "cell_type": "code",
   "execution_count": 4,
   "metadata": {
    "collapsed": false
   },
   "outputs": [
    {
     "data": {
      "text/plain": [
       "Index([u'ID', u'DaRioRA', u'DaRioDEC', u'ObjID', u'ra', u'dec', u'gMeanPSFMag',\n",
       "       u'gMeanPSFMagErr', u'rMeanPSFMag', u'rMeanPSFMagErr', u'iMeanPSFMag',\n",
       "       u'iMeanPSFMagErr', u'zMeanPSFMag', u'zMeanPSFMagErr', u'gMeanPSFmagNpt',\n",
       "       u'rMeanPSFmagNpt', u'iMeanPSFmagNpt', u'zMeanPSFmagNpt', u'gFlags',\n",
       "       u'gQfPerfect', u'rFlags', u'rQfPerfect', u'iFlags', u'iQfPerfect',\n",
       "       u'zFlags', u'zQfPerfect'],\n",
       "      dtype='object')"
      ]
     },
     "execution_count": 4,
     "metadata": {},
     "output_type": "execute_result"
    }
   ],
   "source": [
    "phot_cut.columns"
   ]
  },
  {
   "cell_type": "code",
   "execution_count": 5,
   "metadata": {
    "collapsed": false
   },
   "outputs": [
    {
     "name": "stdout",
     "output_type": "stream",
     "text": [
      "hms_tuple(h=5.0, m=36.0, s=32.670000000005928) dms_tuple(d=-5.0, m=-51.0, s=-8.3087999999992235)\n"
     ]
    }
   ],
   "source": [
    "# Print coordinates of a specific source in the list\n",
    "c = SkyCoord(ra=phot_cut['DaRioRA'][1000]*u.degree, dec=phot_cut['DaRioDEC'][1000]*u.degree, frame='icrs')\n",
    "print c.ra.hms, c.dec.dms"
   ]
  },
  {
   "cell_type": "code",
   "execution_count": 6,
   "metadata": {
    "collapsed": false
   },
   "outputs": [],
   "source": [
    "g_mag = phot_cut['gMeanPSFMag'].values\n",
    "r_mag = phot_cut['rMeanPSFMag'].values\n",
    "i_mag = phot_cut['iMeanPSFMag'].values\n",
    "z_mag = phot_cut['zMeanPSFMag'].values\n",
    "\n",
    "g_err = phot_cut['gMeanPSFMagErr'].values\n",
    "r_err = phot_cut['rMeanPSFMagErr'].values\n",
    "i_err = phot_cut['iMeanPSFMagErr'].values\n",
    "z_err = phot_cut['zMeanPSFMagErr'].values"
   ]
  },
  {
   "cell_type": "code",
   "execution_count": 7,
   "metadata": {
    "collapsed": false
   },
   "outputs": [
    {
     "data": {
      "text/plain": [
       "<matplotlib.collections.PathCollection at 0x119c87190>"
      ]
     },
     "execution_count": 7,
     "metadata": {},
     "output_type": "execute_result"
    },
    {
     "data": {
      "image/png": "[encoded data removed]",
      "text/plain": [
       "<matplotlib.figure.Figure at 0x1190b53d0>"
      ]
     },
     "metadata": {},
     "output_type": "display_data"
    }
   ],
   "source": [
    "plt.scatter(z_mag-i_mag,r_mag-g_mag,marker='+')"
   ]
  },
  {
   "cell_type": "code",
   "execution_count": 8,
   "metadata": {
    "collapsed": true
   },
   "outputs": [],
   "source": [
    "panstarrs_mags = ascii.read('panstarrs_bands.dat',\n",
    "                            names=['Z','log_t','M_ini','M_act','logL','logT','logg','Mbol','gP1','rP1','iP1','zP1',\n",
    "                                  'yP1','wP1','int_IMG','stage'])"
   ]
  },
  {
   "cell_type": "code",
   "execution_count": 9,
   "metadata": {
    "collapsed": false
   },
   "outputs": [],
   "source": [
    "DaRio_params = pd.read_table(\"DaRio_params.txt\",header=None,sep=\" \",\n",
    "                     skiprows=73,skipinitialspace=True)\n",
    "#print DaRio_params\n",
    "#ages = np.array(DaRio_params['logA'])\n",
    "#plt.hist()"
   ]
  },
  {
   "cell_type": "code",
   "execution_count": 10,
   "metadata": {
    "collapsed": false
   },
   "outputs": [
    {
     "data": {
      "text/plain": [
       "(array([   8.,  138.,  629.,  520.,  219.,  280.,  602.,  183.,   59.,   11.]),\n",
       " array([-0.99567863, -0.82559284, -0.65550705, -0.48542126, -0.31533548,\n",
       "        -0.14524969,  0.0248361 ,  0.19492188,  0.36500767,  0.53509346,\n",
       "         0.70517924]),\n",
       " <a list of 10 Patch objects>)"
      ]
     },
     "execution_count": 10,
     "metadata": {},
     "output_type": "execute_result"
    },
    {
     "data": {
      "image/png": "[encoded data removed]",
      "text/plain": [
       "<matplotlib.figure.Figure at 0x11d6e4c90>"
      ]
     },
     "metadata": {},
     "output_type": "display_data"
    }
   ],
   "source": [
    "# Plot the derived parameters from the Da Rio paper (15 for ages, 16 for masses)\n",
    "plt.hist(np.log10(DaRio_params[16][DaRio_params[16]>0]))"
   ]
  },
  {
   "cell_type": "code",
   "execution_count": 11,
   "metadata": {
    "collapsed": false
   },
   "outputs": [
    {
     "data": {
      "text/plain": [
       "(array([  357.,  2378.,  5402.,  7148.,  5696.,  2333.,  1402.,   819.,\n",
       "          373.,   106.]),\n",
       " array([-12.085 ,  -8.9116,  -5.7382,  -2.5648,   0.6086,   3.782 ,\n",
       "          6.9554,  10.1288,  13.3022,  16.4756,  19.649 ]),\n",
       " <a list of 10 Patch objects>)"
      ]
     },
     "execution_count": 11,
     "metadata": {},
     "output_type": "execute_result"
    },
    {
     "data": {
      "image/png": "[encoded data removed]",
      "text/plain": [
       "<matplotlib.figure.Figure at 0x11a1b0b50>"
      ]
     },
     "metadata": {},
     "output_type": "display_data"
    }
   ],
   "source": [
    "# Plot observed Pan-STARRS photometry\n",
    "plt.hist(panstarrs_mags['gP1'].data)"
   ]
  },
  {
   "cell_type": "code",
   "execution_count": 12,
   "metadata": {
    "collapsed": false
   },
   "outputs": [
    {
     "name": "stdout",
     "output_type": "stream",
     "text": [
      "[ 4.    4.05  4.1   4.15  4.2   4.25  4.3   4.35  4.4   4.45  4.5   4.55\n",
      "  4.65  4.7   4.75  4.8   4.85  4.9   4.95  5.05  5.15  5.25  5.6   5.7\n",
      "  5.75  5.8   5.85  5.9   5.95  6.    6.05  6.1   6.15  6.2   6.25  6.3   7.\n",
      "  7.05  7.1   7.15  7.2   7.25  7.3   7.35  7.4   7.45  7.5   7.55  7.6\n",
      "  7.65  7.7   7.75  7.8   7.85  7.9   7.95  8.    8.05  8.1   8.15  8.2\n",
      "  8.25  8.3   8.35  8.4   8.45  8.5   8.55  8.6   8.65  8.7   8.75  8.8\n",
      "  8.85  8.9   8.95  9.    9.05  9.1   9.15  9.2   9.25  9.3   9.35  9.4\n",
      "  9.45  9.5   9.55]\n"
     ]
    }
   ],
   "source": [
    "# Avilable ages in the isochrone models\n",
    "\n",
    "cmap = 'afmhot'\n",
    "masses = panstarrs_mags['M_ini'].data[panstarrs_mags['log_t'].data == 4.0]\n",
    "times = panstarrs_mags['log_t'].data[panstarrs_mags['M_ini'].data == panstarrs_mags['M_ini'].data[2]]\n",
    "print times"
   ]
  },
  {
   "cell_type": "code",
   "execution_count": 13,
   "metadata": {
    "collapsed": false
   },
   "outputs": [
    {
     "data": {
      "image/png": "[encoded data removed]",
      "text/plain": [
       "<matplotlib.figure.Figure at 0x11df1a710>"
      ]
     },
     "metadata": {},
     "output_type": "display_data"
    }
   ],
   "source": [
    "# Plot H-R diagram, color coded by age\n",
    "\n",
    "#norm = mpl.colors.Normalize(vmin=log10(np.min(masses)),vmax=log10(np.max(masses)))\n",
    "norm = mpl.colors.Normalize(vmin=np.min(times),vmax=np.max(times))\n",
    "#print (9.55-4)/0.05\n",
    "#print linspace(4.0,9.55,112)\n",
    "for i,age in enumerate(linspace(4.0,9.55,112)):\n",
    "    #print panstarrs_mags['M_ini'].data[panstarrs_mags['log_t'].data == age]\n",
    "    #print age\n",
    "    if len(panstarrs_mags['M_ini'].data[panstarrs_mags['log_t'].data == age] != 0):\n",
    "        #print log10(masses[i])\n",
    "        #print len(panstarrs_mags['logT'].data[panstarrs_mags['log_t'].data == age])\n",
    "        for j in arange(len(panstarrs_mags['logT'].data[panstarrs_mags['log_t'].data == age])):\n",
    "            cax = plt.scatter(panstarrs_mags['logT'].data[panstarrs_mags['log_t'].data == age][j],\\\n",
    "                     panstarrs_mags['logL'].data[panstarrs_mags['log_t'].data == age][j],marker='+',\\\n",
    "                     color=panstarrs_mags['log_t'].data[panstarrs_mags['log_t'].data == age][j],s=10,cmap=cmap,norm=norm)\n",
    "        #plt.plot(panstarrs_mags['log_t'].data[panstarrs_mags['log_t'].data == age][0],\\\n",
    "        #         panstarrs_mags['zP1'].data[panstarrs_mags['log_t'].data == age][0],marker='+',color='blue',ms=10,mew=2)\n",
    "plt.xlabel(r'$\\log\\: T\\: (K)$',size=20)\n",
    "plt.ylabel(r'$\\log\\: L\\: (L_{\\odot})$',size=20)\n",
    "cbar = colorbar(cax, ticks=[-1, 0, 1])\n",
    "#cbar.ax.set_yticklabels(['< -1', '0', '> 1'])  # vertically oriented colorbar"
   ]
  },
  {
   "cell_type": "code",
   "execution_count": 14,
   "metadata": {
    "collapsed": false
   },
   "outputs": [
    {
     "name": "stdout",
     "output_type": "stream",
     "text": [
      "(15207,)\n"
     ]
    }
   ],
   "source": [
    "# We restrict the ages to account for those ages derived in the DaRio paper, that are between 10^5 and 10^8 yr.\n",
    "print shape(panstarrs_mags['M_ini'].data[(panstarrs_mags['log_t'].data >= 5.0) & (panstarrs_mags['log_t'].data <= 8.0)])\n",
    "ind_age = (panstarrs_mags['log_t'].data >= 5.0) & (panstarrs_mags['log_t'].data <= 8.0)"
   ]
  },
  {
   "cell_type": "code",
   "execution_count": 15,
   "metadata": {
    "collapsed": false
   },
   "outputs": [],
   "source": [
    "logM = log10(panstarrs_mags['M_ini'].data[ind_age])\n",
    "logt = panstarrs_mags['log_t'].data[ind_age]\n",
    "g_panstarrs = panstarrs_mags['gP1'].data[ind_age]\n",
    "r_panstarrs = panstarrs_mags['rP1'].data[ind_age]\n",
    "i_panstarrs = panstarrs_mags['iP1'].data[ind_age]\n",
    "z_panstarrs = panstarrs_mags['zP1'].data[ind_age]\n",
    "#y_panstarrs = panstarrs_mags['yP1'].data[0:883]\n",
    "#w_panstarrs = panstarrs_mags['wP1'].data[0:883]"
   ]
  },
  {
   "cell_type": "code",
   "execution_count": 16,
   "metadata": {
    "collapsed": true
   },
   "outputs": [],
   "source": [
    "# Interpolation is performed using linear Radial Basis Functions\n",
    "from scipy.interpolate.rbf import Rbf\n",
    "\n",
    "gband = Rbf(logM, logt, g_panstarrs, function=\"linear\")\n",
    "rband = Rbf(logM, logt, r_panstarrs, function=\"linear\")\n",
    "iband = Rbf(logM, logt, i_panstarrs, function=\"linear\")\n",
    "zband = Rbf(logM, logt, z_panstarrs, function=\"linear\")\n",
    "#yband = Rbf(logM, logt, y_panstarrs, function=\"linear\")\n",
    "#wband = Rbf(logM, logt, w_panstarrs, function=\"linear\")\n"
   ]
  },
  {
   "cell_type": "code",
   "execution_count": 17,
   "metadata": {
    "collapsed": false
   },
   "outputs": [
    {
     "data": {
      "text/plain": [
       "'***THIS NEEDS TO BE IMPLEMENTED FOR THE PANSTARRS BAND. THE EFFECT ON THE POSTERIORS DOES NOT SEEM TO BE LARGE****'"
      ]
     },
     "execution_count": 17,
     "metadata": {},
     "output_type": "execute_result"
    }
   ],
   "source": [
    "\"\"\" Functions for magnitude offsets due to emission & exctinction. \"\"\"\n",
    "\"***THIS NEEDS TO BE IMPLEMENTED FOR THE PANSTARRS BAND. THE EFFECT ON THE POSTERIORS DOES NOT SEEM TO BE LARGE****\"\n",
    "#hdulist1 = fits.open('/Users/jmartine/science/superluminous/Barensten+2012/simulated_iphas_colours_barentsen2011.fits')  # PaperI\n",
    "#sim = hdulist1[1].data\n",
    "#sim"
   ]
  },
  {
   "cell_type": "code",
   "execution_count": 18,
   "metadata": {
    "collapsed": true
   },
   "outputs": [],
   "source": [
    "# Functions for magnitude offsets as a function of colour, extinction and EW\n",
    "#r_offset = Rbf(sim.field(\"ri_unred\"), sim.field(\"av\"), sim.field(\"logew\"),\n",
    "#               sim.field(\"d_r\"), function=\"linear\")\n",
    "#ha_offset = Rbf(sim.field(\"ri_unred\"), sim.field(\"av\"), sim.field(\"logew\"),\n",
    "#                sim.field(\"d_ha\"), function=\"linear\")\n",
    "#i_offset = Rbf(sim.field(\"ri_unred\"), sim.field(\"av\"), sim.field(\"logew\"),\n",
    "#               sim.field(\"d_i\"), function=\"linear\")"
   ]
  },
  {
   "cell_type": "code",
   "execution_count": 20,
   "metadata": {
    "collapsed": false
   },
   "outputs": [],
   "source": [
    "# Intrinsic (r'-Ha) colour as a function of intrinsic (r'-i')\n",
    "#intrinsic = (sim.field(\"av\") == 0) & (sim.field(\"logew\") == -1)\n",
    "#rminHa_intrinsic = Rbf(sim.field(\"ri_unred\")[intrinsic],\n",
    "#                       sim.field(\"rha\")[intrinsic], function=\"linear\")"
   ]
  },
  {
   "cell_type": "code",
   "execution_count": 21,
   "metadata": {
    "collapsed": false
   },
   "outputs": [
    {
     "name": "stdout",
     "output_type": "stream",
     "text": [
      " [-----------------100%-----------------] 100000 of 100000 complete in 196.3 sec"
     ]
    }
   ],
   "source": [
    "def make_model(observed_sed, e_observed_sed):\n",
    "    \"\"\" This function returns all prior and likelihood objects \"\"\"\n",
    "\n",
    "    # Prior: mass (Kroupa 2001)\n",
    "    @pymc.stochastic()\n",
    "    def logM(value=np.array([np.log10(0.5)]), a=np.log10(0.1), b=np.log10(7)):\n",
    "\n",
    "        def logp(value, a, b):\n",
    "            if value > b or value < a:\n",
    "                return -np.Inf  # Stay within the model limits (a,b).\n",
    "            else:\n",
    "                mass = 10 ** value\n",
    "                if mass < 0.5:\n",
    "                    return np.log(mass ** -1.3)  # Kroupa (2001)\n",
    "                else:\n",
    "                    return np.log(0.5 * mass ** -2.3)  # Kroupa (2001)\n",
    "\n",
    "        def random(a, b):\n",
    "            val = (b - a) * np.random.rand() + a\n",
    "            return np.array([val])\n",
    "\n",
    "    # Prior: age (uniform in the logarithm)\n",
    "    #logT = pymc.Normal(\"logT\", mu=np.array([6.3]), tau=1.0)\n",
    "    logT = pymc.Uniform(\"logT\", np.array([5]), np.array([8]))\n",
    "\n",
    "    # Prior: distance (d = 475 +\\- 5 pc, Sung 1997)\n",
    "    d = pymc.TruncatedNormal(\"d\", mu=np.array([475.0]), tau=5.0 ** -2, a=400, b=9e99)\n",
    "\n",
    "    # Prior: extinction (logA0 = 0.25 +/- 1.0, Rebull et al. 2002)\n",
    "    logA0 = pymc.Normal(\"logA0\", mu=np.array([0.25]), tau=1.0 ** -2)\n",
    "\n",
    "    # Likelihood: intrinsic SED\n",
    "    @pymc.deterministic()\n",
    "    def SED_intrinsic(logM=logM, logT=logT):\n",
    "        g = gband(logM, logT)  # Pan-STARRS g as a fucntion of (mass, age)\n",
    "        r = rband(logM, logT)  # Pan-STARRS r as a fucntion of (mass, age)\n",
    "        i = iband(logM, logT)  # Pan-STARRS i as a fucntion of (mass, age)\n",
    "        z = zband(logM, logT)  # Pan-STARRS z as a fucntion of (mass, age)\n",
    "        #y = yband(logM, logT)  # Pan-STARRS y as a fucntion of (mass, age)\n",
    "        #w = wband(logM, logT)  # Pan-STARRS w as a fucntion of (mass, age)\n",
    "        \n",
    "        return np.array([g[0], r[0], i[0], z[0]])\n",
    "    \n",
    "    # Likelihood: apparent SED\n",
    "    @pymc.deterministic()\n",
    "    def SED_apparent(d=d, logA0=logA0, SED_intr=SED_intrinsic):\n",
    "        dismod = 5.0 * np.log10(d) - 5.0  # Distance modulus.\n",
    "        A0 = 10.0 ** logA0  # Extinction parameter\n",
    "        ri_intr = np.array([SED_intr[1] - SED_intr[2]])  # Intrinsic (r'-i')\n",
    "        # Correct the intrinsic magnitudes for extinction and H-alpha emission:\n",
    "        g = SED_intr[0] + dismod\n",
    "        r = SED_intr[1] + dismod\n",
    "        i = SED_intr[2] + dismod\n",
    "        z = SED_intr[3] + dismod\n",
    "        #y = SED_intr[4] + dismod\n",
    "        #w = SED_intr[5] + dismod\n",
    "        return np.array([g[0], r[0], i[0], z[0]])\n",
    "\n",
    "    # Likelihood: observed SED\n",
    "    @pymc.stochastic(observed=True)\n",
    "    def SED_observed(value=observed_sed, SED_apparent=SED_apparent):\n",
    "        e_calib = np.array([0.1, 0.1, 0.1, 0.1])  # Absolute uncertainty term\n",
    "        D2 = sum((observed_sed - SED_apparent) ** 2 /\n",
    "                 (e_observed_sed ** 2 + e_calib ** 2))\n",
    "        logp = -D2 / 2.0\n",
    "        return logp\n",
    "\n",
    "    return locals()  # Return all model components defined above\n",
    "\n",
    "\n",
    "if __name__ == \"__main__\":\n",
    "    \"\"\" Example code which demonstrates how to sample the posterior. This is where you enter the observed magnitudes \"\"\"\n",
    "    # Input: the observed magnitudes and 1-sigma uncertainties\n",
    "    sed_observed = np.array([g_mag[1000], r_mag[1000], i_mag[1000], z_mag[1000]])  # g, r, i, z\n",
    "    e_sed_observed = np.array([g_err[1000], r_err[1000], i_err[1000], z_err[1000]])  # e_g, e_r, e_i, e_z\n",
    "    # Initialize the model.\n",
    "    mymodel = make_model(sed_observed, e_sed_observed)\n",
    "    M = pymc.MCMC(mymodel)\n",
    "    # Demo: run the MCMC sampler and print the expectation value for log(Mass)\n",
    "    M.sample(100000)\n",
    "    #samples_logM = M.trace(\"logM\")[:]\n",
    "    #print(\"logM = %.2f +/-%.2f\" % (np.mean(samples_logM), np.std(samples_logM)))"
   ]
  },
  {
   "cell_type": "code",
   "execution_count": 22,
   "metadata": {
    "collapsed": false
   },
   "outputs": [
    {
     "name": "stdout",
     "output_type": "stream",
     "text": [
      "Plotting logT_0\n"
     ]
    },
    {
     "data": {
      "text/plain": [
       "<matplotlib.figure.Figure at 0x11eda9dd0>"
      ]
     },
     "metadata": {},
     "output_type": "display_data"
    },
    {
     "data": {
      "image/png": "[encoded data removed]",
      "text/plain": [
       "<matplotlib.figure.Figure at 0x11b07ac50>"
      ]
     },
     "metadata": {},
     "output_type": "display_data"
    }
   ],
   "source": [
    "#plt.hist(samples_logM)\n",
    "fig = plt.figure(figsize=(16,8))\n",
    "pymc.Matplot.plot(M.trace(\"logT\"), new=False)"
   ]
  },
  {
   "cell_type": "code",
   "execution_count": null,
   "metadata": {
    "collapsed": true
   },
   "outputs": [],
   "source": []
  }
 ],
 "metadata": {
  "kernelspec": {
   "display_name": "Python 2",
   "language": "python",
   "name": "python2"
  },
  "language_info": {
   "codemirror_mode": {
    "name": "ipython",
    "version": 2
   },
   "file_extension": ".py",
   "mimetype": "text/x-python",
   "name": "python",
   "nbconvert_exporter": "python",
   "pygments_lexer": "ipython2",
   "version": "2.7.11"
  }
 },
 "nbformat": 4,
 "nbformat_minor": 0
}
